{
 "cells": [
  {
   "cell_type": "code",
   "execution_count": 15,
   "id": "364e14e7",
   "metadata": {},
   "outputs": [],
   "source": [
    "PATH = './data/inbreast'\n"
   ]
  },
  {
   "cell_type": "code",
   "execution_count": 16,
   "id": "82d9533e",
   "metadata": {},
   "outputs": [
    {
     "ename": "FileNotFoundError",
     "evalue": "[Errno 2] No such file or directory: 'data/images'",
     "output_type": "error",
     "traceback": [
      "\u001b[0;31m---------------------------------------------------------------------------\u001b[0m",
      "\u001b[0;31mFileNotFoundError\u001b[0m                         Traceback (most recent call last)",
      "\u001b[0;32m/tmp/ipykernel_1299204/2234104881.py\u001b[0m in \u001b[0;36m<module>\u001b[0;34m\u001b[0m\n\u001b[1;32m     16\u001b[0m         \u001b[0mos\u001b[0m\u001b[0;34m.\u001b[0m\u001b[0mmakedirs\u001b[0m\u001b[0;34m(\u001b[0m\u001b[0mos\u001b[0m\u001b[0;34m.\u001b[0m\u001b[0mpath\u001b[0m\u001b[0;34m.\u001b[0m\u001b[0mjoin\u001b[0m\u001b[0;34m(\u001b[0m\u001b[0mbase_path\u001b[0m\u001b[0;34m,\u001b[0m \u001b[0;34m\"masks\"\u001b[0m\u001b[0;34m,\u001b[0m \u001b[0mclass_name\u001b[0m\u001b[0;34m)\u001b[0m\u001b[0;34m,\u001b[0m \u001b[0mexist_ok\u001b[0m\u001b[0;34m=\u001b[0m\u001b[0;32mTrue\u001b[0m\u001b[0;34m)\u001b[0m\u001b[0;34m\u001b[0m\u001b[0;34m\u001b[0m\u001b[0m\n\u001b[1;32m     17\u001b[0m \u001b[0;34m\u001b[0m\u001b[0m\n\u001b[0;32m---> 18\u001b[0;31m \u001b[0mclasses\u001b[0m \u001b[0;34m=\u001b[0m \u001b[0msorted\u001b[0m\u001b[0;34m(\u001b[0m\u001b[0mos\u001b[0m\u001b[0;34m.\u001b[0m\u001b[0mlistdir\u001b[0m\u001b[0;34m(\u001b[0m\u001b[0mimage_dir\u001b[0m\u001b[0;34m)\u001b[0m\u001b[0;34m)\u001b[0m\u001b[0;34m\u001b[0m\u001b[0;34m\u001b[0m\u001b[0m\n\u001b[0m\u001b[1;32m     19\u001b[0m \u001b[0;34m\u001b[0m\u001b[0m\n\u001b[1;32m     20\u001b[0m \u001b[0mcreate_dirs\u001b[0m\u001b[0;34m(\u001b[0m\u001b[0mtrain_dir\u001b[0m\u001b[0;34m,\u001b[0m \u001b[0mclasses\u001b[0m\u001b[0;34m)\u001b[0m\u001b[0;34m\u001b[0m\u001b[0;34m\u001b[0m\u001b[0m\n",
      "\u001b[0;31mFileNotFoundError\u001b[0m: [Errno 2] No such file or directory: 'data/images'"
     ]
    }
   ],
   "source": [
    "import os\n",
    "import shutil\n",
    "from sklearn.model_selection import train_test_split\n",
    "\n",
    "base_dir = \"data\"\n",
    "image_dir = os.path.join(base_dir, \"images\")\n",
    "mask_dir = os.path.join(base_dir, \"masks\")\n",
    "\n",
    "train_dir = os.path.join(base_dir, \"train\")\n",
    "test_dir = os.path.join(base_dir, \"test\")\n",
    "\n",
    "\n",
    "def create_dirs(base_path, class_names):\n",
    "    for class_name in class_names:\n",
    "        os.makedirs(os.path.join(base_path, \"images\", class_name), exist_ok=True)\n",
    "        os.makedirs(os.path.join(base_path, \"masks\", class_name), exist_ok=True)\n",
    "\n",
    "classes = sorted(os.listdir(image_dir))\n",
    "\n",
    "create_dirs(train_dir, classes)\n",
    "create_dirs(test_dir, classes)\n",
    "\n",
    "for class_name in classes:\n",
    "    class_image_dir = os.path.join(image_dir, class_name)\n",
    "    class_mask_dir = os.path.join(mask_dir, class_name)\n",
    "    \n",
    "    # Listar imagens e máscaras na classe\n",
    "    image_files = sorted(os.listdir(class_image_dir))\n",
    "    mask_files = sorted(os.listdir(class_mask_dir))\n",
    "\n",
    "    # Garantir que imagens e máscaras correspondem\n",
    "    image_files = [f for f in image_files if f in mask_files]\n",
    "    mask_files = [f for f in mask_files if f in image_files]\n",
    "\n",
    "    # Dividir os arquivos em treino e teste (80% treino, 20% teste)\n",
    "    train_images, test_images, train_masks, test_masks = train_test_split(\n",
    "        image_files, mask_files, test_size=0.2, random_state=42\n",
    "    )\n",
    "\n",
    "    # Função para mover arquivos\n",
    "    def move_files(file_list, src_folder, dest_folder):\n",
    "        for file in file_list:\n",
    "            shutil.copy(os.path.join(src_folder, file), os.path.join(dest_folder, file))\n",
    "\n",
    "    # Mover arquivos para treino\n",
    "    move_files(train_images, class_image_dir, os.path.join(train_dir, \"images\", class_name))\n",
    "    move_files(train_masks, class_mask_dir, os.path.join(train_dir, \"masks\", class_name))\n",
    "\n",
    "    # Mover arquivos para teste\n",
    "    move_files(test_images, class_image_dir, os.path.join(test_dir, \"images\", class_name))\n",
    "    move_files(test_masks, class_mask_dir, os.path.join(test_dir, \"masks\", class_name))\n",
    "\n",
    "print(\"Dataset dividido com sucesso!\")\n"
   ]
  },
  {
   "cell_type": "code",
   "execution_count": null,
   "id": "6e6a80ea",
   "metadata": {},
   "outputs": [],
   "source": []
  }
 ],
 "metadata": {
  "kernelspec": {
   "display_name": "Python 3 (ipykernel)",
   "language": "python",
   "name": "python3"
  },
  "language_info": {
   "codemirror_mode": {
    "name": "ipython",
    "version": 3
   },
   "file_extension": ".py",
   "mimetype": "text/x-python",
   "name": "python",
   "nbconvert_exporter": "python",
   "pygments_lexer": "ipython3",
   "version": "3.10.12"
  }
 },
 "nbformat": 4,
 "nbformat_minor": 5
}
